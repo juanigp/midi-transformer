{
 "cells": [
  {
   "cell_type": "code",
   "execution_count": 8,
   "id": "a0c9e693",
   "metadata": {},
   "outputs": [],
   "source": [
    "from datasets import load_dataset\n",
    "import os\n",
    "DATA_DIR = \"/Users/juanigp/Desktop/data/e-gmd-v1.0.0\"\n",
    "csv_dir = \"e-gmd-v1.0.0.csv\"\n",
    "csv_dir = os.path.join(DATA_DIR, csv_dir)"
   ]
  },
  {
   "cell_type": "code",
   "execution_count": 11,
   "id": "070ac28d",
   "metadata": {},
   "outputs": [
    {
     "name": "stderr",
     "output_type": "stream",
     "text": [
      "Using custom data configuration default-51ad44df56849337\n",
      "Reusing dataset csv (/Users/juanigp/.cache/huggingface/datasets/csv/default-51ad44df56849337/0.0.0/433e0ccc46f9880962cc2b12065189766fbb2bee57a221866138fb9203c83519)\n",
      "100%|████████████████████████████████████████████| 1/1 [00:00<00:00, 174.82it/s]\n"
     ]
    }
   ],
   "source": [
    "dataset = load_dataset('csv', data_files=csv_dir)\n",
    "dataset = dataset['train']"
   ]
  },
  {
   "cell_type": "code",
   "execution_count": 12,
   "id": "289f702d",
   "metadata": {},
   "outputs": [
    {
     "data": {
      "text/plain": [
       "{'drummer': 'drummer1',\n",
       " 'session': 'drummer1/eval_session',\n",
       " 'id': 'drummer1/eval_session/1',\n",
       " 'style': 'funk/groove1',\n",
       " 'bpm': 138,\n",
       " 'beat_type': 'beat',\n",
       " 'time_signature': '4-4',\n",
       " 'duration': 27.826099773242632,\n",
       " 'split': 'test',\n",
       " 'midi_filename': 'drummer1/eval_session/1_funk-groove1_138_beat_4-4_1.midi',\n",
       " 'audio_filename': 'drummer1/eval_session/1_funk-groove1_138_beat_4-4_1.wav',\n",
       " 'kit_name': 'Acoustic Kit'}"
      ]
     },
     "execution_count": 12,
     "metadata": {},
     "output_type": "execute_result"
    }
   ],
   "source": [
    "dataset[0]"
   ]
  },
  {
   "cell_type": "markdown",
   "id": "ffb63770",
   "metadata": {},
   "source": [
    "## Notas:\n",
    "\n",
    "#### Pipeline\n",
    "- MidiTOK: Tokenizers have a .vocab member to get the vocabulary; and .tokenize_midi_dataset that can tokenize a list of midi paths and return a json\n",
    "- huggingface docs - datasets- how tos - process, has examples of functional transforms. Maybe this way it is more intuitive or convenient.\n",
    "\n",
    "#### Resources:\n",
    "- https://huggingface.co/docs/datasets/loading\n",
    "\n",
    "\n",
    "#### Tasks:\n",
    "- Autoregressive: first to try\n",
    "- conditioned generation: can add the labels to the vocabulary, and prepend these tokens to the sequences\n",
    "- see if i need remove some tokens, for example velocity.\n"
   ]
  },
  {
   "cell_type": "code",
   "execution_count": 15,
   "id": "adc55f5b",
   "metadata": {},
   "outputs": [],
   "source": [
    "from miditoolkit import MidiFile\n",
    "from miditok import REMI\n",
    "tokenizer = REMI()\n",
    "\n",
    "def map_func(x, data_dir, tokenizer):\n",
    "    x['midi_filename'] = os.path.join(data_dir, x['midi_filename'])\n",
    "    midi_file = MidiFile(x['midi_filename'])\n",
    "    tokens = tokenizer.midi_to_tokens(midi_file)[0]\n",
    "    x['input_ids'] = tokens\n",
    "    return x"
   ]
  },
  {
   "cell_type": "code",
   "execution_count": 21,
   "id": "60549b4c",
   "metadata": {},
   "outputs": [
    {
     "name": "stderr",
     "output_type": "stream",
     "text": [
      "Loading cached processed dataset at /Users/juanigp/.cache/huggingface/datasets/csv/default-51ad44df56849337/0.0.0/433e0ccc46f9880962cc2b12065189766fbb2bee57a221866138fb9203c83519/cache-2d69005c3bc045e4.arrow\n",
      "Loading cached processed dataset at /Users/juanigp/.cache/huggingface/datasets/csv/default-51ad44df56849337/0.0.0/433e0ccc46f9880962cc2b12065189766fbb2bee57a221866138fb9203c83519/cache-d8571d4672a6fe72.arrow\n",
      "Loading cached processed dataset at /Users/juanigp/.cache/huggingface/datasets/csv/default-51ad44df56849337/0.0.0/433e0ccc46f9880962cc2b12065189766fbb2bee57a221866138fb9203c83519/cache-836c9eacec353afe.arrow\n",
      "Loading cached processed dataset at /Users/juanigp/.cache/huggingface/datasets/csv/default-51ad44df56849337/0.0.0/433e0ccc46f9880962cc2b12065189766fbb2bee57a221866138fb9203c83519/cache-78045bc30a1b1de2.arrow\n",
      "Loading cached processed dataset at /Users/juanigp/.cache/huggingface/datasets/csv/default-51ad44df56849337/0.0.0/433e0ccc46f9880962cc2b12065189766fbb2bee57a221866138fb9203c83519/cache-5c37fba7e86da5de.arrow\n",
      "Loading cached processed dataset at /Users/juanigp/.cache/huggingface/datasets/csv/default-51ad44df56849337/0.0.0/433e0ccc46f9880962cc2b12065189766fbb2bee57a221866138fb9203c83519/cache-0ffc3cd2a338e352.arrow\n",
      "Loading cached processed dataset at /Users/juanigp/.cache/huggingface/datasets/csv/default-51ad44df56849337/0.0.0/433e0ccc46f9880962cc2b12065189766fbb2bee57a221866138fb9203c83519/cache-347c1156ec207358.arrow\n",
      "Loading cached processed dataset at /Users/juanigp/.cache/huggingface/datasets/csv/default-51ad44df56849337/0.0.0/433e0ccc46f9880962cc2b12065189766fbb2bee57a221866138fb9203c83519/cache-3f1d2a0768d9555c.arrow\n"
     ]
    }
   ],
   "source": [
    "dataset = dataset.map(lambda x: map_func(x, DATA_DIR, tokenizer), num_proc=8)"
   ]
  },
  {
   "cell_type": "code",
   "execution_count": 23,
   "id": "62b53a80",
   "metadata": {},
   "outputs": [],
   "source": [
    "dataset = dataset.train_test_split(test_size = 0.1)"
   ]
  },
  {
   "cell_type": "code",
   "execution_count": 25,
   "id": "a7965aca",
   "metadata": {
    "scrolled": true
   },
   "outputs": [
    {
     "data": {
      "text/plain": [
       "248"
      ]
     },
     "execution_count": 25,
     "metadata": {},
     "output_type": "execute_result"
    }
   ],
   "source": [
    "import sys\n",
    "sys.getsizeof(dataset)"
   ]
  },
  {
   "cell_type": "code",
   "execution_count": 28,
   "id": "1605bfbe",
   "metadata": {},
   "outputs": [
    {
     "data": {
      "text/plain": [
       "[1,\n",
       " 186,\n",
       " 17,\n",
       " 121,\n",
       " 123,\n",
       " 32,\n",
       " 121,\n",
       " 123,\n",
       " 190,\n",
       " 32,\n",
       " 97,\n",
       " 123,\n",
       " 194,\n",
       " 19,\n",
       " 121,\n",
       " 123,\n",
       " 195,\n",
       " 32,\n",
       " 121,\n",
       " 122,\n",
       " 198,\n",
       " 32,\n",
       " 104,\n",
       " 123,\n",
       " 200,\n",
       " 19,\n",
       " 121,\n",
       " 123,\n",
       " 202,\n",
       " 32,\n",
       " 109,\n",
       " 123,\n",
       " 204,\n",
       " 19,\n",
       " 121,\n",
       " 123,\n",
       " 206,\n",
       " 17,\n",
       " 106,\n",
       " 122,\n",
       " 32,\n",
       " 116,\n",
       " 123,\n",
       " 208,\n",
       " 17,\n",
       " 121,\n",
       " 122,\n",
       " 210,\n",
       " 19,\n",
       " 121,\n",
       " 122,\n",
       " 32,\n",
       " 121,\n",
       " 122,\n",
       " 214,\n",
       " 32,\n",
       " 104,\n",
       " 122,\n",
       " 1,\n",
       " 186,\n",
       " 17,\n",
       " 121,\n",
       " 122,\n",
       " 32,\n",
       " 121,\n",
       " 122,\n",
       " 190,\n",
       " 32,\n",
       " 102,\n",
       " 122,\n",
       " 194,\n",
       " 19,\n",
       " 121,\n",
       " 122,\n",
       " 32,\n",
       " 121,\n",
       " 123,\n",
       " 198,\n",
       " 32,\n",
       " 106,\n",
       " 122,\n",
       " 200,\n",
       " 19,\n",
       " 121,\n",
       " 123,\n",
       " 202,\n",
       " 32,\n",
       " 115,\n",
       " 122]"
      ]
     },
     "execution_count": 28,
     "metadata": {},
     "output_type": "execute_result"
    }
   ],
   "source": [
    "dataset['train'][0]['input_ids']"
   ]
  },
  {
   "cell_type": "code",
   "execution_count": null,
   "id": "0617c71b",
   "metadata": {},
   "outputs": [],
   "source": []
  }
 ],
 "metadata": {
  "kernelspec": {
   "display_name": "Python 3 (ipykernel)",
   "language": "python",
   "name": "python3"
  },
  "language_info": {
   "codemirror_mode": {
    "name": "ipython",
    "version": 3
   },
   "file_extension": ".py",
   "mimetype": "text/x-python",
   "name": "python",
   "nbconvert_exporter": "python",
   "pygments_lexer": "ipython3",
   "version": "3.8.13"
  }
 },
 "nbformat": 4,
 "nbformat_minor": 5
}
